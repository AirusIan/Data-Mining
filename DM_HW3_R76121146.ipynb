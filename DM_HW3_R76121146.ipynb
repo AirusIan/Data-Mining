{
  "nbformat": 4,
  "nbformat_minor": 0,
  "metadata": {
    "colab": {
      "provenance": []
    },
    "kernelspec": {
      "name": "python3",
      "display_name": "Python 3"
    },
    "language_info": {
      "name": "python"
    }
  },
  "cells": [
    {
      "cell_type": "markdown",
      "source": [
        "# 以下是Equal-width"
      ],
      "metadata": {
        "id": "9Bq-bWTSGOuJ"
      }
    },
    {
      "cell_type": "code",
      "source": [
        "import math\n",
        "from collections import Counter"
      ],
      "metadata": {
        "id": "9rhqo0FuGSMv"
      },
      "execution_count": null,
      "outputs": []
    },
    {
      "cell_type": "code",
      "source": [
        "number_of_lists = 11\n",
        "with open('glass.txt', 'r') as file:\n",
        "    # 创建空列表以存储结果\n",
        "    org_lists = [[] for _ in range(number_of_lists)]  # number_of_lists是您想要创建的列表数量\n",
        "\n",
        "    # 逐行读取文件中的数据\n",
        "    for line in file:\n",
        "        # 去除行末的换行符并按逗号分割数据\n",
        "        data = line.strip().split(',')\n",
        "\n",
        "        # 将每个数据按照其在行中的位置存入相应的列表\n",
        "        for index, value in enumerate(data):\n",
        "            org_lists[index].append(float(value))"
      ],
      "metadata": {
        "id": "tycpA1v4GSVq"
      },
      "execution_count": null,
      "outputs": []
    },
    {
      "cell_type": "code",
      "source": [
        "#捨棄第一個Column\n",
        "lists = []\n",
        "for i, data_list in enumerate(org_lists):\n",
        "  if i == 0 :\n",
        "    continue\n",
        "  else:\n",
        "    lists.append(data_list)"
      ],
      "metadata": {
        "id": "-88bjmjjGSYi"
      },
      "execution_count": null,
      "outputs": []
    },
    {
      "cell_type": "code",
      "source": [
        "num_bins = 10\n",
        "\n",
        "# 存储每个bin的分割点\n",
        "bin_edges = []\n",
        "\n",
        "# 对每个列表进行处理\n",
        "for lst in lists:\n",
        "    # 找到最小值和最大值，以确定bin的范围\n",
        "    min_val = min(lst)\n",
        "    max_val = max(lst)\n",
        "\n",
        "    # 计算bin的宽度\n",
        "    bin_width = (max_val - min_val) / num_bins\n",
        "\n",
        "    # 生成每个bin的分割点\n",
        "    bin_edges.append([min_val + i * bin_width for i in range(1,num_bins)])\n",
        "equal_wid_list = []\n",
        "# 将每个值替换为所属的bin的编号\n",
        "for i, lst in enumerate(lists):\n",
        "    if i == 9:\n",
        "      continue\n",
        "    bin_edge = bin_edges[i]\n",
        "    discrete_attri = [0] * len(lst)\n",
        "    for j, value in enumerate(lst):\n",
        "        if(lists[i][j] >= bin_edge[len(bin_edge)-1]):\n",
        "          discrete_attri[j] = len(bin_edge)+1\n",
        "          continue\n",
        "        for k in range(0, len(bin_edge)):\n",
        "            if value <= bin_edge[k]:\n",
        "                discrete_attri[j] = k+1\n",
        "                break\n",
        "    equal_wid_list.append(discrete_attri)\n",
        "    print(f'List {i+1} : {lists[i]}')\n",
        "    print(f'Split Point{bin_edge}')\n",
        "    print(\"Atrribute after discretization:\", discrete_attri)\n",
        "    print()\n",
        "equal_wid_list.append(lists[9])"
      ],
      "metadata": {
        "id": "pXZF_fjsGSa5"
      },
      "execution_count": null,
      "outputs": []
    },
    {
      "cell_type": "code",
      "source": [
        "for i, data_list in enumerate(equal_wid_list):\n",
        "  for c in range(len(data_list)):\n",
        "    data_list[c] = str(data_list[c])\n",
        "  print(f'List {i}: {data_list}')\n",
        "  print(len(data_list))"
      ],
      "metadata": {
        "id": "modOlNQRGS0_"
      },
      "execution_count": null,
      "outputs": []
    },
    {
      "cell_type": "code",
      "source": [
        "last_list = equal_wid_list[9]\n",
        "num_nj = [0] * 7\n",
        "for i in last_list:\n",
        "  if i == '1.0':\n",
        "    num_nj[0] += 1\n",
        "  elif i == '2.0':\n",
        "    num_nj[1] += 1\n",
        "  elif i == '3.0':\n",
        "    num_nj[2] += 1\n",
        "  elif i == '4.0':\n",
        "    num_nj[3] += 1\n",
        "  elif i == '5.0':\n",
        "    num_nj[4] += 1\n",
        "  elif i == '6.0':\n",
        "    num_nj[5] += 1\n",
        "  elif i == '7.0':\n",
        "    num_nj[6] += 1\n",
        "\n"
      ],
      "metadata": {
        "id": "t6t9sqyyG4TH"
      },
      "execution_count": null,
      "outputs": []
    },
    {
      "cell_type": "code",
      "source": [
        "print(num_nj)"
      ],
      "metadata": {
        "id": "IbHKWO7Up8EH"
      },
      "execution_count": null,
      "outputs": []
    },
    {
      "cell_type": "code",
      "execution_count": null,
      "metadata": {
        "id": "u2ux3iyebak8"
      },
      "outputs": [],
      "source": [
        "def ki(col):\n",
        "  knum = set()\n",
        "  attri = equal_wid_list[col]\n",
        "  #attri = selected_lists[col]\n",
        "  for i in range(0,len(attri)):\n",
        "    knum.add(attri[i])\n",
        "\n",
        "  return len(knum)\n"
      ]
    },
    {
      "cell_type": "code",
      "source": [
        "ki(7)"
      ],
      "metadata": {
        "id": "80YvjzOnGscR"
      },
      "execution_count": null,
      "outputs": []
    },
    {
      "cell_type": "code",
      "source": [
        "def nij(lists, numofdata, column, class_num):\n",
        "  count = 0\n",
        "  values = lists[column][numofdata]\n",
        "  for i in range(0,214):\n",
        "    if(lists[len(lists)-1][i] == class_num and lists[column][i] == values):\n",
        "      count += 1\n",
        "  return count\n"
      ],
      "metadata": {
        "id": "Y9Igqmaa7_w1"
      },
      "execution_count": null,
      "outputs": []
    },
    {
      "cell_type": "code",
      "source": [
        "nij(equal_wid_list,0,3,'1.0')"
      ],
      "metadata": {
        "id": "wxR_IMeyI35_"
      },
      "execution_count": null,
      "outputs": []
    },
    {
      "cell_type": "code",
      "source": [
        "def nj(class_num):\n",
        "  return num_nj[class_num-1]\n"
      ],
      "metadata": {
        "id": "qKXZbiBJEQQy"
      },
      "execution_count": null,
      "outputs": []
    },
    {
      "cell_type": "code",
      "source": [
        "for i in range(0,7):\n",
        "  print(nj(i))"
      ],
      "metadata": {
        "id": "fm609HvHEyYP"
      },
      "execution_count": null,
      "outputs": []
    },
    {
      "cell_type": "code",
      "source": [
        "def Laplace(lists, row, column, class_num):\n",
        "  nij_val = nij(lists, row, column, str(float((class_num))) )\n",
        "  nj_val = nj(class_num)\n",
        "  k_val = ki(column)\n",
        "  nij_val += 1\n",
        "  #print(f'nij_val {nij_val} nj_val {nj_val} k_val {k_val}')\n",
        "  return nij_val / (nj_val + k_val)"
      ],
      "metadata": {
        "id": "_za0cyVhLp2Q"
      },
      "execution_count": null,
      "outputs": []
    },
    {
      "cell_type": "code",
      "source": [
        "Laplace(equal_wid_list, 0,0,1)"
      ],
      "metadata": {
        "id": "malSZSzbNUb5"
      },
      "execution_count": null,
      "outputs": []
    },
    {
      "cell_type": "code",
      "source": [
        "candidate = [0,1,2,3,4,5,6,7,8]\n",
        "result = []\n",
        "improve = True\n",
        "accuracy = 0\n",
        "while(improve and len(candidate)!=0):\n",
        "  improve = False\n",
        "  temp_corr = 0\n",
        "  attri_to_put = -1\n",
        "  for k in range(0, len(candidate)):\n",
        "    temp_list = list(result) #建立臨時list 算出該attribute若加入pick_list所得到的goodness值\n",
        "    temp_list.append(candidate[k])\n",
        "\n",
        "    correct = 0\n",
        "\n",
        "    for u in range(0,214):\n",
        "\n",
        "      c_star = -1\n",
        "      highest_likelihood = -1\n",
        "      for j in range(1,8):\n",
        "        likelihood = nj(j)/214\n",
        "        for x in range(0,len(temp_list)):\n",
        "          w = temp_list[x]\n",
        "          #print(f'u{u} j{j} x{x} w{w}')\n",
        "          likelihood *= Laplace(equal_wid_list, u, w, j)\n",
        "          #print(likelihood)\n",
        "        if likelihood > highest_likelihood:\n",
        "          highest_likelihood = likelihood\n",
        "          c_star = j\n",
        "      if str(float(c_star)) == equal_wid_list[9][u]:\n",
        "        correct += 1\n",
        "\n",
        "    print(f'temp_list{temp_list} correct {correct} temp_corr {temp_corr}')\n",
        "    temp_list.clear()\n",
        "    if correct > temp_corr:\n",
        "      temp_corr = correct\n",
        "      attri_to_put = candidate[k]\n",
        "\n",
        "\n",
        "  if temp_corr > accuracy:\n",
        "    result.append(attri_to_put)\n",
        "    candidate.remove(attri_to_put)\n",
        "    improve = True\n",
        "    accuracy = temp_corr\n",
        "    #print(accuracy)\n",
        "    #print(f'result : {result} candidate : {candidate}')\n",
        "  else:\n",
        "    print(\"Accuracy isn't improved\")\n",
        "    break\n",
        "  print(f'result {result} accuracy {temp_corr/214}')\n",
        "  print(\"---------------------------------------\")\n",
        "print(f'Final result {result} Accuracy {accuracy/214}')\n"
      ],
      "metadata": {
        "colab": {
          "base_uri": "https://localhost:8080/"
        },
        "id": "cbGRRGnsPt_u",
        "outputId": "37d4707c-5f9c-4d4b-c63d-20f72fa6acf9"
      },
      "execution_count": null,
      "outputs": [
        {
          "output_type": "stream",
          "name": "stdout",
          "text": [
            "temp_list[0] correct 88 temp_corr 0\n",
            "temp_list[1] correct 99 temp_corr 88\n",
            "temp_list[2] correct 102 temp_corr 99\n",
            "temp_list[3] correct 111 temp_corr 102\n",
            "temp_list[4] correct 92 temp_corr 111\n",
            "temp_list[5] correct 96 temp_corr 111\n",
            "temp_list[6] correct 104 temp_corr 111\n",
            "temp_list[7] correct 102 temp_corr 111\n",
            "temp_list[8] correct 81 temp_corr 111\n",
            "result [3] accuracy 0.5186915887850467\n",
            "---------------------------------------\n",
            "temp_list[3, 0] correct 114 temp_corr 0\n",
            "temp_list[3, 1] correct 117 temp_corr 114\n",
            "temp_list[3, 2] correct 116 temp_corr 117\n",
            "temp_list[3, 4] correct 116 temp_corr 117\n",
            "temp_list[3, 5] correct 119 temp_corr 117\n",
            "temp_list[3, 6] correct 129 temp_corr 119\n",
            "temp_list[3, 7] correct 119 temp_corr 129\n",
            "temp_list[3, 8] correct 116 temp_corr 129\n",
            "result [3, 6] accuracy 0.602803738317757\n",
            "---------------------------------------\n",
            "temp_list[3, 6, 0] correct 130 temp_corr 0\n",
            "temp_list[3, 6, 1] correct 134 temp_corr 130\n",
            "temp_list[3, 6, 2] correct 142 temp_corr 134\n",
            "temp_list[3, 6, 4] correct 129 temp_corr 142\n",
            "temp_list[3, 6, 5] correct 126 temp_corr 142\n",
            "temp_list[3, 6, 7] correct 136 temp_corr 142\n",
            "temp_list[3, 6, 8] correct 135 temp_corr 142\n",
            "result [3, 6, 2] accuracy 0.6635514018691588\n",
            "---------------------------------------\n",
            "temp_list[3, 6, 2, 0] correct 144 temp_corr 0\n",
            "temp_list[3, 6, 2, 1] correct 141 temp_corr 144\n",
            "temp_list[3, 6, 2, 4] correct 139 temp_corr 144\n",
            "temp_list[3, 6, 2, 5] correct 138 temp_corr 144\n",
            "temp_list[3, 6, 2, 7] correct 144 temp_corr 144\n",
            "temp_list[3, 6, 2, 8] correct 141 temp_corr 144\n",
            "result [3, 6, 2, 0] accuracy 0.6728971962616822\n",
            "---------------------------------------\n",
            "temp_list[3, 6, 2, 0, 1] correct 149 temp_corr 0\n",
            "temp_list[3, 6, 2, 0, 4] correct 141 temp_corr 149\n",
            "temp_list[3, 6, 2, 0, 5] correct 146 temp_corr 149\n",
            "temp_list[3, 6, 2, 0, 7] correct 147 temp_corr 149\n",
            "temp_list[3, 6, 2, 0, 8] correct 143 temp_corr 149\n",
            "result [3, 6, 2, 0, 1] accuracy 0.6962616822429907\n",
            "---------------------------------------\n",
            "temp_list[3, 6, 2, 0, 1, 4] correct 147 temp_corr 0\n",
            "temp_list[3, 6, 2, 0, 1, 5] correct 150 temp_corr 147\n",
            "temp_list[3, 6, 2, 0, 1, 7] correct 148 temp_corr 150\n",
            "temp_list[3, 6, 2, 0, 1, 8] correct 148 temp_corr 150\n",
            "result [3, 6, 2, 0, 1, 5] accuracy 0.7009345794392523\n",
            "---------------------------------------\n",
            "temp_list[3, 6, 2, 0, 1, 5, 4] correct 148 temp_corr 0\n",
            "temp_list[3, 6, 2, 0, 1, 5, 7] correct 152 temp_corr 148\n",
            "temp_list[3, 6, 2, 0, 1, 5, 8] correct 154 temp_corr 152\n",
            "result [3, 6, 2, 0, 1, 5, 8] accuracy 0.719626168224299\n",
            "---------------------------------------\n",
            "temp_list[3, 6, 2, 0, 1, 5, 8, 4] correct 152 temp_corr 0\n",
            "temp_list[3, 6, 2, 0, 1, 5, 8, 7] correct 154 temp_corr 152\n",
            "Accuracy isn't improved\n",
            "Final result [3, 6, 2, 0, 1, 5, 8] Accuracy 0.719626168224299\n"
          ]
        }
      ]
    },
    {
      "cell_type": "markdown",
      "source": [
        "# 以下是Equal-Frequency"
      ],
      "metadata": {
        "id": "S3p_TUaPX-hq"
      }
    },
    {
      "cell_type": "code",
      "source": [
        "#捨棄第一個Column\n",
        "lists = []\n",
        "for i, data_list in enumerate(org_lists):\n",
        "  if i == 0 :\n",
        "    continue\n",
        "  else:\n",
        "    lists.append(data_list)"
      ],
      "metadata": {
        "id": "D3HOafe4YF_R"
      },
      "execution_count": null,
      "outputs": []
    },
    {
      "cell_type": "code",
      "source": [
        "num_bins = 10\n",
        "# 初始化分割点列表\n",
        "equal_freq_list = []\n",
        "# 对每个列表进行处理\n",
        "k = int(len(lists[0]) / 10)\n",
        "for i in range(len(lists)):\n",
        "    if i == 9:\n",
        "      continue\n",
        "    # 对列表进行排序\n",
        "    sorted_lst = sorted(lists[i])\n",
        "    split_pts = []\n",
        "    # 计算每个bin的大小\n",
        "    bin_size = len(lists[i]) // num_bins\n",
        "    # 计算分割点\n",
        "    for j in range(1, 10):\n",
        "        split_point_index = (sorted_lst[j*k] + sorted_lst[j*k+1])/2\n",
        "        if split_point_index not in split_pts:#確保分割點不重複\n",
        "          split_pts.append(split_point_index)\n",
        "    # 将每个值替换为所属的bin的编号\n",
        "    bin_indices = [0] * len(lists[i])\n",
        "\n",
        "    for z in range(0,len(lists[i])):\n",
        "        #bigthanlast = 1 #比最後一個分割點還大\n",
        "        if lists[i][z] > split_pts[len(split_pts)-1]:\n",
        "          bin_indices[z] = len(split_pts)+1\n",
        "          continue\n",
        "        for u in range(0,len(split_pts)+1):\n",
        "            if lists[i][z] <= split_pts[u]:\n",
        "                bin_indices[z] = u+1\n",
        "                #bigthanlast = 0\n",
        "                break\n",
        "        '''if bigthanlast == 1:\n",
        "              bin_indices[z] = len(split_pts)+1'''\n",
        "    equal_freq_list.append(bin_indices)\n",
        "    print(f'List {i+1}: {lists[i]}')\n",
        "    print(\"Split Points:\", split_pts)\n",
        "    print(\"Bin Indices:\", bin_indices)\n",
        "    print()\n",
        "equal_freq_list.append(lists[9])"
      ],
      "metadata": {
        "id": "3BF2E_nsYq85"
      },
      "execution_count": null,
      "outputs": []
    },
    {
      "cell_type": "code",
      "source": [
        "for i, data_list in enumerate(equal_freq_list):\n",
        "  for c in range(len(data_list)):\n",
        "    data_list[c] = str(data_list[c])\n",
        "  print(f'List {i+1}: {data_list}')"
      ],
      "metadata": {
        "id": "U2dijX5LfkxL"
      },
      "execution_count": null,
      "outputs": []
    },
    {
      "cell_type": "code",
      "source": [
        "def ki(col):\n",
        "  knum = set()\n",
        "  attri = equal_freq_list[col]\n",
        "  for i in range(0,len(attri)):\n",
        "    knum.add(attri[i])\n",
        "\n",
        "  return len(knum)"
      ],
      "metadata": {
        "id": "4L-M5mzLYq_0"
      },
      "execution_count": null,
      "outputs": []
    },
    {
      "cell_type": "code",
      "source": [
        "ki(5)"
      ],
      "metadata": {
        "id": "vM4dSN_dYrC4"
      },
      "execution_count": null,
      "outputs": []
    },
    {
      "cell_type": "code",
      "source": [
        "def nij(lists, numofdata, column, class_num):\n",
        "  count = 0\n",
        "  values = lists[column][numofdata]\n",
        "  for i in range(0,214):\n",
        "    if(lists[len(lists)-1][i] == class_num and lists[column][i] == values):\n",
        "      count += 1\n",
        "  return count"
      ],
      "metadata": {
        "id": "hWrSQI-Wf3l7"
      },
      "execution_count": null,
      "outputs": []
    },
    {
      "cell_type": "code",
      "source": [
        "nij(equal_freq_list,8,8,'1.0')"
      ],
      "metadata": {
        "id": "X-m8WFiqgB8s"
      },
      "execution_count": null,
      "outputs": []
    },
    {
      "cell_type": "code",
      "source": [
        "def Laplace(lists, row, column, class_num):\n",
        "  nij_val = nij(lists, row, column, str(float((class_num))) )\n",
        "  nj_val = nj(class_num)\n",
        "  k_val = ki(column)\n",
        "  nij_val += 1\n",
        "  return nij_val / (nj_val + k_val)"
      ],
      "metadata": {
        "id": "NxcXOwRFgGJs"
      },
      "execution_count": null,
      "outputs": []
    },
    {
      "cell_type": "code",
      "source": [
        "Laplace(equal_freq_list, 0,0,1)*num_nj[0]/214"
      ],
      "metadata": {
        "id": "qH4towk6hQ8z"
      },
      "execution_count": null,
      "outputs": []
    },
    {
      "cell_type": "code",
      "source": [
        "candidate = [0,1,2,3,4,5,6,7,8]\n",
        "result = []\n",
        "improve = True\n",
        "accuracy = 0\n",
        "while(improve and len(candidate)!=0):\n",
        "  improve = False\n",
        "  temp_corr = 0\n",
        "  attri_to_put = -1\n",
        "  for k in range(0, len(candidate)):\n",
        "    temp_list = list(result) #建立臨時list 算出該attribute若加入pick_list所得到的goodness值\n",
        "    temp_list.append(candidate[k])\n",
        "\n",
        "    correct = 0\n",
        "\n",
        "    for u in range(0,214):\n",
        "\n",
        "      c_star = -1\n",
        "      highest_likelihood = -1\n",
        "      for j in range(1,8):\n",
        "        likelihood = nj(j)/214\n",
        "        for x in range(0,len(temp_list)):\n",
        "          w = temp_list[x]\n",
        "          #print(f'u{u} j{j} x{x} w{w}')\n",
        "          likelihood *= Laplace(equal_freq_list, u, w, j)\n",
        "          #print(likelihood)\n",
        "        if likelihood > highest_likelihood:\n",
        "          highest_likelihood = likelihood\n",
        "          c_star = j\n",
        "      #print(f'c_star {c_star} real {equal_wid_list[9][u]}')\n",
        "      if str(float(c_star)) == equal_freq_list[9][u]:\n",
        "        correct += 1\n",
        "\n",
        "    print(f'temp_list{temp_list} correct {correct} temp_corr {temp_corr}')\n",
        "    temp_list.clear()\n",
        "    if correct > temp_corr:\n",
        "      temp_corr = correct\n",
        "      attri_to_put = candidate[k]\n",
        "\n",
        "\n",
        "  if temp_corr > accuracy:\n",
        "    result.append(attri_to_put)\n",
        "    candidate.remove(attri_to_put)\n",
        "    improve = True\n",
        "    accuracy = temp_corr\n",
        "    #print(accuracy)\n",
        "    #print(f'result : {result} candidate : {candidate}')\n",
        "  else:\n",
        "    print(\"Accuracy isn't improved\")\n",
        "    break\n",
        "  print(f'result {result} accuracy {temp_corr/214}')\n",
        "  print(\"---------------------------------------\")\n",
        "print(f'Final result {result} Accuracy {accuracy/214}')\n"
      ],
      "metadata": {
        "colab": {
          "base_uri": "https://localhost:8080/"
        },
        "id": "tTHP3p-khbPK",
        "outputId": "ce7d6579-fa8d-46f6-9dc8-fbcd048faabc"
      },
      "execution_count": null,
      "outputs": [
        {
          "output_type": "stream",
          "name": "stdout",
          "text": [
            "temp_list[0] correct 115 temp_corr 0\n",
            "temp_list[1] correct 110 temp_corr 115\n",
            "temp_list[2] correct 108 temp_corr 115\n",
            "temp_list[3] correct 123 temp_corr 115\n",
            "temp_list[4] correct 99 temp_corr 123\n",
            "temp_list[5] correct 111 temp_corr 123\n",
            "temp_list[6] correct 111 temp_corr 123\n",
            "temp_list[7] correct 96 temp_corr 123\n",
            "temp_list[8] correct 79 temp_corr 123\n",
            "result [3] accuracy 0.5747663551401869\n",
            "---------------------------------------\n",
            "temp_list[3, 0] correct 140 temp_corr 0\n",
            "temp_list[3, 1] correct 133 temp_corr 140\n",
            "temp_list[3, 2] correct 137 temp_corr 140\n",
            "temp_list[3, 4] correct 126 temp_corr 140\n",
            "temp_list[3, 5] correct 132 temp_corr 140\n",
            "temp_list[3, 6] correct 132 temp_corr 140\n",
            "temp_list[3, 7] correct 131 temp_corr 140\n",
            "temp_list[3, 8] correct 127 temp_corr 140\n",
            "result [3, 0] accuracy 0.6542056074766355\n",
            "---------------------------------------\n",
            "temp_list[3, 0, 1] correct 154 temp_corr 0\n",
            "temp_list[3, 0, 2] correct 156 temp_corr 154\n",
            "temp_list[3, 0, 4] correct 146 temp_corr 156\n",
            "temp_list[3, 0, 5] correct 153 temp_corr 156\n",
            "temp_list[3, 0, 6] correct 154 temp_corr 156\n",
            "temp_list[3, 0, 7] correct 148 temp_corr 156\n",
            "temp_list[3, 0, 8] correct 142 temp_corr 156\n",
            "result [3, 0, 2] accuracy 0.7289719626168224\n",
            "---------------------------------------\n",
            "temp_list[3, 0, 2, 1] correct 167 temp_corr 0\n",
            "temp_list[3, 0, 2, 4] correct 160 temp_corr 167\n",
            "temp_list[3, 0, 2, 5] correct 160 temp_corr 167\n",
            "temp_list[3, 0, 2, 6] correct 165 temp_corr 167\n",
            "temp_list[3, 0, 2, 7] correct 159 temp_corr 167\n",
            "temp_list[3, 0, 2, 8] correct 161 temp_corr 167\n",
            "result [3, 0, 2, 1] accuracy 0.780373831775701\n",
            "---------------------------------------\n",
            "temp_list[3, 0, 2, 1, 4] correct 166 temp_corr 0\n",
            "temp_list[3, 0, 2, 1, 5] correct 165 temp_corr 166\n",
            "temp_list[3, 0, 2, 1, 6] correct 168 temp_corr 166\n",
            "temp_list[3, 0, 2, 1, 7] correct 171 temp_corr 168\n",
            "temp_list[3, 0, 2, 1, 8] correct 168 temp_corr 171\n",
            "result [3, 0, 2, 1, 7] accuracy 0.7990654205607477\n",
            "---------------------------------------\n",
            "temp_list[3, 0, 2, 1, 7, 4] correct 170 temp_corr 0\n",
            "temp_list[3, 0, 2, 1, 7, 5] correct 172 temp_corr 170\n",
            "temp_list[3, 0, 2, 1, 7, 6] correct 169 temp_corr 172\n",
            "temp_list[3, 0, 2, 1, 7, 8] correct 171 temp_corr 172\n",
            "result [3, 0, 2, 1, 7, 5] accuracy 0.8037383177570093\n",
            "---------------------------------------\n",
            "temp_list[3, 0, 2, 1, 7, 5, 4] correct 177 temp_corr 0\n",
            "temp_list[3, 0, 2, 1, 7, 5, 6] correct 176 temp_corr 177\n",
            "temp_list[3, 0, 2, 1, 7, 5, 8] correct 170 temp_corr 177\n",
            "result [3, 0, 2, 1, 7, 5, 4] accuracy 0.8271028037383178\n",
            "---------------------------------------\n",
            "temp_list[3, 0, 2, 1, 7, 5, 4, 6] correct 178 temp_corr 0\n",
            "temp_list[3, 0, 2, 1, 7, 5, 4, 8] correct 179 temp_corr 178\n",
            "result [3, 0, 2, 1, 7, 5, 4, 8] accuracy 0.8364485981308412\n",
            "---------------------------------------\n",
            "temp_list[3, 0, 2, 1, 7, 5, 4, 8, 6] correct 179 temp_corr 0\n",
            "Accuracy isn't improved\n",
            "Final result [3, 0, 2, 1, 7, 5, 4, 8] Accuracy 0.8364485981308412\n"
          ]
        }
      ]
    },
    {
      "cell_type": "markdown",
      "source": [
        "# 以下是 Entropy-Based"
      ],
      "metadata": {
        "id": "5Nbec_6QrhK1"
      }
    },
    {
      "cell_type": "code",
      "source": [
        "#捨棄第一個Column\n",
        "lists = []\n",
        "for i, data_list in enumerate(org_lists):\n",
        "  if i == 0 :\n",
        "    continue\n",
        "  else:\n",
        "    lists.append(data_list)"
      ],
      "metadata": {
        "id": "xPuQMrrDroA0"
      },
      "execution_count": null,
      "outputs": []
    },
    {
      "cell_type": "code",
      "source": [
        "for i, data_list in enumerate(lists):\n",
        "    #print(len(data_list))\n",
        "    print(f'List {i+1}: {data_list}')"
      ],
      "metadata": {
        "id": "3QJZtKrUruL9"
      },
      "execution_count": null,
      "outputs": []
    },
    {
      "cell_type": "code",
      "source": [
        "biggest_list = []\n",
        "last_list = lists[-1]\n",
        "# 对每个列表进行处理\n",
        "for lst in lists:\n",
        "  big_list = []\n",
        "  for i in range(len(lst)):\n",
        "    new_list = [lst[i], last_list[i]]  # 创建new_list，第一个值是第一个元素，第二个值是最后一个元素\n",
        "    big_list.append(new_list)  # 创建big_list，将new_list添加进去\n",
        "  biggest_list.append(big_list)  # 将big_list添加到biggest_list中\n",
        "\n",
        "# 打印结果\n",
        "for i, big_list in enumerate(biggest_list):\n",
        "    print(f\"biggest_list[{i+1}]: {big_list}\")"
      ],
      "metadata": {
        "id": "7jFOTQeOruSA"
      },
      "execution_count": null,
      "outputs": []
    },
    {
      "cell_type": "code",
      "source": [
        "def sort_by_first_element(new_list):\n",
        "    return new_list[0]\n",
        "result_list = []\n",
        "for big_list in biggest_list:\n",
        "    sorted_big_list = sorted(big_list, key=sort_by_first_element)\n",
        "    result_list.append(sorted_big_list)\n",
        "    print(sorted_big_list)\n",
        "result_list = result_list[:-1]"
      ],
      "metadata": {
        "id": "kZzAyUO6sKSe"
      },
      "execution_count": null,
      "outputs": []
    },
    {
      "cell_type": "code",
      "source": [
        "for i,data_list in enumerate(result_list):\n",
        "    print(f'result_list {i+1}:{data_list}')"
      ],
      "metadata": {
        "id": "bCrEECQXsM-l"
      },
      "execution_count": null,
      "outputs": []
    },
    {
      "cell_type": "code",
      "source": [
        "def Entropy(d_list, x, y):\n",
        "  # 初始化一个列表，用于存储在指定范围内的第二个值\n",
        "  values_in_range = []\n",
        "  # 遍历 d_list 中的索引范围 [x, y]\n",
        "  for i in range(x, y+1):\n",
        "      temp_list = d_list[i]\n",
        "      second_value = temp_list[1]\n",
        "      values_in_range.append(second_value)\n",
        "\n",
        "  # 使用 Counter 统计值的出现频率\n",
        "  value_counts = Counter(values_in_range)\n",
        "\n",
        "  # 计算熵\n",
        "  total_count = len(values_in_range)\n",
        "  entropy = 0.0\n",
        "  for count in value_counts.values():\n",
        "      probability = count / total_count\n",
        "      entropy -= probability * math.log(probability, 2)\n",
        "  return entropy\n"
      ],
      "metadata": {
        "id": "NQHey4GpsR-O"
      },
      "execution_count": null,
      "outputs": []
    },
    {
      "cell_type": "code",
      "source": [
        "def kclass_num(d_list, x, y):\n",
        "  # 初始化一个列表，用于存储在指定范围内的第二个值\n",
        "  knum = set()\n",
        "  # 遍历 d_list 中的索引范围 [x, y]\n",
        "  for i in range(x, y+1):\n",
        "      temp_list = d_list[i]\n",
        "      second_value = temp_list[1]\n",
        "      knum.add(second_value)\n",
        "\n",
        "  return len(knum)\n"
      ],
      "metadata": {
        "id": "0009g8-wsUbe"
      },
      "execution_count": null,
      "outputs": []
    },
    {
      "cell_type": "code",
      "source": [
        "def CheckCutPoint(x, y, d_list, split_ps):\n",
        "  if(x == y):\n",
        "    return\n",
        "  min_cut_value = 99999\n",
        "  cutpoint = -1\n",
        "  total_entropy = Entropy(d_list, x, y)\n",
        "  N = y - x + 1\n",
        "  for i in range(x, y):\n",
        "    S1_len = i - x + 1\n",
        "    S2_len = y - i + 1\n",
        "    left_entropy = Entropy(d_list, x, i+1)\n",
        "    right_entropy = Entropy(d_list, i+1, y)\n",
        "    if (S1_len / N * left_entropy + S2_len / N * right_entropy) < min_cut_value:\n",
        "      min_cut_value = (S1_len / N * left_entropy + S2_len / N * right_entropy)\n",
        "      cutpoint = i\n",
        "  S1_len = cutpoint - x + 1\n",
        "  S2_len = y - cutpoint + 1\n",
        "  left_entropy = Entropy(d_list, x, cutpoint+1)\n",
        "  right_entropy = Entropy(d_list, cutpoint+1, y)\n",
        "  k = kclass_num(d_list, x, y)\n",
        "  k1 = kclass_num(d_list, x, cutpoint+1)\n",
        "  k2 = kclass_num(d_list, cutpoint+1, y)\n",
        "\n",
        "  Gain = total_entropy - (S1_len / N * left_entropy + S2_len / N * right_entropy)\n",
        "  delta = math.log2(N-1) / N + ( math.log2(3**k-2) - (k*total_entropy - k1*left_entropy -k2*right_entropy))/N\n",
        "  print(f'x {x} cutpoint {cutpoint} y {y}')\n",
        "  print(f'Gain {Gain} delta {delta}')\n",
        "  print()\n",
        "\n",
        "  if Gain > delta:\n",
        "    if d_list[cutpoint][0] not in split_ps:\n",
        "      split_ps.append(d_list[cutpoint][0])\n",
        "    CheckCutPoint(x, cutpoint, d_list, split_ps)\n",
        "    CheckCutPoint(cutpoint+1, y, d_list, split_ps)\n",
        "  else:\n",
        "    return\n",
        "\n",
        "\n"
      ],
      "metadata": {
        "id": "Un-IihWfsXTv"
      },
      "execution_count": null,
      "outputs": []
    },
    {
      "cell_type": "code",
      "source": [
        "all_split_ps = []\n",
        "for i, d_list in enumerate(result_list):\n",
        "  split_ps = []\n",
        "  CheckCutPoint(0, 212, d_list, split_ps)\n",
        "  all_split_ps.append(split_ps)\n",
        "#all_split_ps[8].clear()"
      ],
      "metadata": {
        "id": "Sp8w8c1vsYw_"
      },
      "execution_count": null,
      "outputs": []
    },
    {
      "cell_type": "code",
      "source": [
        "for i,d_lst in enumerate(all_split_ps):\n",
        "  d_lst = sorted(d_lst)\n",
        "  print(f'List {i+1} split points{d_lst}')"
      ],
      "metadata": {
        "colab": {
          "base_uri": "https://localhost:8080/"
        },
        "id": "c0OjFm6-sbUO",
        "outputId": "a1cc57de-297f-4e11-ac02-93a3bae756ff"
      },
      "execution_count": null,
      "outputs": [
        {
          "output_type": "stream",
          "name": "stdout",
          "text": [
            "List 1 split points[1.51732, 1.51796]\n",
            "List 2 split points[14.03]\n",
            "List 3 split points[0.0, 2.68]\n",
            "List 4 split points[1.38, 1.76]\n",
            "List 5 split points[]\n",
            "List 6 split points[0.0, 0.05, 0.64, 0.72]\n",
            "List 7 split points[6.96, 8.31, 10.02]\n",
            "List 8 split points[0.0]\n",
            "List 9 split points[0.0]\n"
          ]
        }
      ]
    },
    {
      "cell_type": "code",
      "source": [
        "# 初始化分割点列表\n",
        "entropy_based_list = []\n",
        "# 对每个列表进行处理\n",
        "k = int(len(lists[0]) / 10)\n",
        "for i in range(len(lists)):\n",
        "    if i == 9:\n",
        "      continue\n",
        "\n",
        "    split_pts = sorted(all_split_ps[i])\n",
        "    # 将每个值替换为所属的bin的编号\n",
        "    bin_indices = [1] * len(lists[i])\n",
        "\n",
        "    for z in range(0,len(lists[i])):\n",
        "        if len(split_pts) == 0:\n",
        "          continue\n",
        "        if lists[i][z] > split_pts[len(split_pts)-1]:\n",
        "          bin_indices[z] = len(split_pts)+1\n",
        "          continue\n",
        "        for u in range(0,len(split_pts)):\n",
        "            if lists[i][z] <= split_pts[u]:\n",
        "                bin_indices[z] = u+1\n",
        "                break\n",
        "    entropy_based_list.append(bin_indices)\n",
        "    print(f'List {i+1}: {lists[i]}')\n",
        "    print(\"Split Points:\", split_pts)\n",
        "    print(\"Bin Indices:\", bin_indices)\n",
        "    print()\n",
        "entropy_based_list.append(lists[9])"
      ],
      "metadata": {
        "id": "sSLZqqtzskav"
      },
      "execution_count": null,
      "outputs": []
    },
    {
      "cell_type": "code",
      "source": [
        "def ki(col):\n",
        "  knum = set()\n",
        "  attri = entropy_based_list[col]\n",
        "  for i in range(0,len(attri)):\n",
        "    knum.add(attri[i])\n",
        "\n",
        "  return len(knum)"
      ],
      "metadata": {
        "id": "6OW3rHxbtjhV"
      },
      "execution_count": null,
      "outputs": []
    },
    {
      "cell_type": "code",
      "source": [
        "ki(2)"
      ],
      "metadata": {
        "id": "Ya2hA9tDtuZ-"
      },
      "execution_count": null,
      "outputs": []
    },
    {
      "cell_type": "code",
      "source": [
        "def nij(lists, numofdata, column, class_num):\n",
        "  count = 0\n",
        "  values = lists[column][numofdata]\n",
        "  for i in range(0,214):\n",
        "    if(lists[len(lists)-1][i] == class_num and lists[column][i] == values):\n",
        "      count += 1\n",
        "  return count"
      ],
      "metadata": {
        "id": "DLvxHACaufuu"
      },
      "execution_count": null,
      "outputs": []
    },
    {
      "cell_type": "code",
      "source": [
        "def Laplace(lists, row, column, class_num):\n",
        "  nij_val = nij(lists, row, column, str(float((class_num))) )\n",
        "  nj_val = nj(class_num)\n",
        "  k_val = ki(column)\n",
        "  nij_val += 1\n",
        "  return nij_val / (nj_val + k_val)"
      ],
      "metadata": {
        "id": "vc93ARhvu4sH"
      },
      "execution_count": null,
      "outputs": []
    },
    {
      "cell_type": "code",
      "source": [
        "Laplace(entropy_based_list, 0,0,1)*num_nj[0]/214"
      ],
      "metadata": {
        "id": "iJcpUEwYu65_"
      },
      "execution_count": null,
      "outputs": []
    },
    {
      "cell_type": "code",
      "source": [
        "candidate = [0,1,2,3,4,5,6,7,8]\n",
        "result = []\n",
        "improve = True\n",
        "accuracy = 0\n",
        "while(improve and len(candidate)!=0):\n",
        "  improve = False\n",
        "  temp_corr = 0\n",
        "  attri_to_put = -1\n",
        "  for k in range(0, len(candidate)):\n",
        "    temp_list = list(result) #建立臨時list 算出該attribute若加入pick_list所得到的goodness值\n",
        "    temp_list.append(candidate[k])\n",
        "\n",
        "    correct = 0\n",
        "\n",
        "    for u in range(0,214):\n",
        "\n",
        "      c_star = -1\n",
        "      highest_likelihood = -1\n",
        "      for j in range(1,8):\n",
        "        likelihood = nj(j)/214\n",
        "        for x in range(0,len(temp_list)):\n",
        "          w = temp_list[x]\n",
        "          #print(f'u{u} j{j} x{x} w{w}')\n",
        "          likelihood *= Laplace(entropy_based_list, u, w, j)\n",
        "          #print(likelihood)\n",
        "        if likelihood > highest_likelihood:\n",
        "          highest_likelihood = likelihood\n",
        "          c_star = j\n",
        "      #print(f'c_star {c_star} real {equal_wid_list[9][u]}')\n",
        "      if str(float(c_star)) == entropy_based_list[9][u]:\n",
        "        correct += 1\n",
        "\n",
        "    print(f'temp_list{temp_list} correct {correct} temp_corr {temp_corr}')\n",
        "    temp_list.clear()\n",
        "    if correct > temp_corr:\n",
        "      temp_corr = correct\n",
        "      attri_to_put = candidate[k]\n",
        "\n",
        "\n",
        "  if temp_corr > accuracy:\n",
        "    result.append(attri_to_put)\n",
        "    candidate.remove(attri_to_put)\n",
        "    improve = True\n",
        "    accuracy = temp_corr\n",
        "    #print(accuracy)\n",
        "    #print(f'result : {result} candidate : {candidate}')\n",
        "  else:\n",
        "    print(\"Accuracy isn't improved\")\n",
        "    break\n",
        "  print(f'result {result} accuracy {temp_corr/214}')\n",
        "  print(\"---------------------------------------\")\n",
        "print(f'Final result {result} Accuracy {accuracy/214}')"
      ],
      "metadata": {
        "colab": {
          "base_uri": "https://localhost:8080/"
        },
        "id": "vWYTDgr9u-3m",
        "outputId": "2ded8d0f-de9a-4831-8f2b-5fd7f85515f1"
      },
      "execution_count": null,
      "outputs": [
        {
          "output_type": "stream",
          "name": "stdout",
          "text": [
            "temp_list[0] correct 107 temp_corr 0\n",
            "temp_list[1] correct 97 temp_corr 107\n",
            "temp_list[2] correct 99 temp_corr 107\n",
            "temp_list[3] correct 127 temp_corr 107\n",
            "temp_list[4] correct 76 temp_corr 127\n",
            "temp_list[5] correct 109 temp_corr 127\n",
            "temp_list[6] correct 115 temp_corr 127\n",
            "temp_list[7] correct 96 temp_corr 127\n",
            "temp_list[8] correct 76 temp_corr 127\n",
            "result [3] accuracy 0.5934579439252337\n",
            "---------------------------------------\n",
            "temp_list[3, 0] correct 130 temp_corr 0\n",
            "temp_list[3, 1] correct 134 temp_corr 130\n",
            "temp_list[3, 2] correct 141 temp_corr 134\n",
            "temp_list[3, 4] correct 127 temp_corr 141\n",
            "temp_list[3, 5] correct 136 temp_corr 141\n",
            "temp_list[3, 6] correct 140 temp_corr 141\n",
            "temp_list[3, 7] correct 133 temp_corr 141\n",
            "temp_list[3, 8] correct 127 temp_corr 141\n",
            "result [3, 2] accuracy 0.6588785046728972\n",
            "---------------------------------------\n",
            "temp_list[3, 2, 0] correct 145 temp_corr 0\n",
            "temp_list[3, 2, 1] correct 144 temp_corr 145\n",
            "temp_list[3, 2, 4] correct 141 temp_corr 145\n",
            "temp_list[3, 2, 5] correct 145 temp_corr 145\n",
            "temp_list[3, 2, 6] correct 150 temp_corr 145\n",
            "temp_list[3, 2, 7] correct 144 temp_corr 150\n",
            "temp_list[3, 2, 8] correct 141 temp_corr 150\n",
            "result [3, 2, 6] accuracy 0.7009345794392523\n",
            "---------------------------------------\n",
            "temp_list[3, 2, 6, 0] correct 160 temp_corr 0\n",
            "temp_list[3, 2, 6, 1] correct 153 temp_corr 160\n",
            "temp_list[3, 2, 6, 4] correct 150 temp_corr 160\n",
            "temp_list[3, 2, 6, 5] correct 154 temp_corr 160\n",
            "temp_list[3, 2, 6, 7] correct 151 temp_corr 160\n",
            "temp_list[3, 2, 6, 8] correct 150 temp_corr 160\n",
            "result [3, 2, 6, 0] accuracy 0.7476635514018691\n",
            "---------------------------------------\n",
            "temp_list[3, 2, 6, 0, 1] correct 160 temp_corr 0\n",
            "temp_list[3, 2, 6, 0, 4] correct 160 temp_corr 160\n",
            "temp_list[3, 2, 6, 0, 5] correct 155 temp_corr 160\n",
            "temp_list[3, 2, 6, 0, 7] correct 160 temp_corr 160\n",
            "temp_list[3, 2, 6, 0, 8] correct 160 temp_corr 160\n",
            "Accuracy isn't improved\n",
            "Final result [3, 2, 6, 0] Accuracy 0.7476635514018691\n"
          ]
        }
      ]
    }
  ]
}